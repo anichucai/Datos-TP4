{
 "cells": [
  {
   "cell_type": "markdown",
   "id": "56941eaa",
   "metadata": {},
   "source": [
    "# Baseline: XGBoost"
   ]
  },
  {
   "cell_type": "markdown",
   "id": "dca1917a",
   "metadata": {},
   "source": [
    "## Importo librerias"
   ]
  },
  {
   "cell_type": "code",
   "execution_count": 1,
   "id": "f93e8099",
   "metadata": {},
   "outputs": [],
   "source": [
    "import pandas as pd\n",
    "import numpy as np\n",
    "import datetime as dt\n",
    "from matplotlib import pyplot as plt"
   ]
  },
  {
   "cell_type": "code",
   "execution_count": 2,
   "id": "f9c2b766",
   "metadata": {},
   "outputs": [],
   "source": [
    "from sklearn.model_selection import train_test_split\n",
    "from sklearn.feature_extraction.text import TfidfVectorizer"
   ]
  },
  {
   "cell_type": "code",
   "execution_count": 3,
   "id": "3967dedf",
   "metadata": {},
   "outputs": [],
   "source": [
    "RANDOM_STATE = 24"
   ]
  },
  {
   "cell_type": "markdown",
   "id": "18854f8d",
   "metadata": {},
   "source": [
    "## Leo datasets"
   ]
  },
  {
   "cell_type": "code",
   "execution_count": 4,
   "id": "b6283d48",
   "metadata": {
    "scrolled": true
   },
   "outputs": [],
   "source": [
    "df_reviews = pd.read_csv(\"dataset/silkroad_reviews.csv\")"
   ]
  },
  {
   "cell_type": "markdown",
   "id": "c76a83ae",
   "metadata": {},
   "source": [
    "## Funciones de encodeo de traget"
   ]
  },
  {
   "cell_type": "code",
   "execution_count": 5,
   "id": "83ec81c4",
   "metadata": {},
   "outputs": [],
   "source": [
    "def encode_target(df, column_name=\"rating\"):\n",
    "    df[column_name] = df[column_name]\n",
    "    df[column_name] = df[column_name].apply(lambda x: x if(x==5.0 or x==0.0) else 5.0)\n",
    "    df[column_name] = df[column_name].replace(5.0, 1.0)\n",
    "    return df\n",
    "\n",
    "def decode_target(s):\n",
    "    res = s.copy()\n",
    "    res = res.apply(lambda x: 5.0 if(x==1.0) else 5.0)\n",
    "    return res"
   ]
  },
  {
   "cell_type": "code",
   "execution_count": 6,
   "id": "1babed6e",
   "metadata": {},
   "outputs": [],
   "source": [
    "df_reviews = encode_target(df_reviews)"
   ]
  },
  {
   "cell_type": "markdown",
   "id": "bfc24640",
   "metadata": {},
   "source": [
    "## Split del dataset"
   ]
  },
  {
   "cell_type": "code",
   "execution_count": 7,
   "id": "d32461be",
   "metadata": {},
   "outputs": [],
   "source": [
    "x = df_reviews.drop(columns=[\"rating\"])\n",
    "y = df_reviews[\"rating\"]"
   ]
  },
  {
   "cell_type": "code",
   "execution_count": 8,
   "id": "ee9b7866",
   "metadata": {},
   "outputs": [],
   "source": [
    "x_train, x_test, y_train, y_test = train_test_split(x, y, random_state=RANDOM_STATE)"
   ]
  },
  {
   "cell_type": "markdown",
   "id": "1120d165",
   "metadata": {},
   "source": [
    "## Feature engineering"
   ]
  },
  {
   "cell_type": "code",
   "execution_count": 9,
   "id": "6be11a75",
   "metadata": {},
   "outputs": [],
   "source": [
    "x_train_cf = pd.DataFrame()\n",
    "x_test_cf = pd.DataFrame()"
   ]
  },
  {
   "cell_type": "markdown",
   "id": "f4b245e3",
   "metadata": {},
   "source": [
    "### Time features"
   ]
  },
  {
   "cell_type": "code",
   "execution_count": 10,
   "id": "bb25596d",
   "metadata": {},
   "outputs": [],
   "source": [
    "def create_time_features(df, column_name):\n",
    "\n",
    "    date_col = pd.to_datetime(df[column_name])\n",
    "    res = pd.DataFrame()\n",
    "    res[\"CF|time|year|\"+column_name] = date_col.apply(lambda x: x.year)\n",
    "    res[\"CF|time|month|\"+column_name] = date_col.apply(lambda x: x.month)\n",
    "    res[\"CF|time|day|\"+column_name] = date_col.apply(lambda x: x.day)\n",
    "    res[\"CF|time|dayofweek|\"+column_name] = date_col.apply(lambda x: x.dayofweek)\n",
    "    res[\"CF|time|quarter|\"+column_name] = date_col.apply(lambda x: x.quarter)\n",
    "    res[\"CF|time|semester|\"+column_name] = date_col.apply(lambda x: x.quarter)\n",
    "\n",
    "    return res"
   ]
  },
  {
   "cell_type": "code",
   "execution_count": 11,
   "id": "98d2cc02",
   "metadata": {
    "scrolled": true
   },
   "outputs": [],
   "source": [
    "x_train_cf = create_time_features(x_train, \"date_created\")\n",
    "x_test_cf = create_time_features(x_test, \"date_created\")"
   ]
  },
  {
   "cell_type": "markdown",
   "id": "7566d5eb",
   "metadata": {},
   "source": [
    "### Categorical features"
   ]
  },
  {
   "cell_type": "code",
   "execution_count": 12,
   "id": "99a15065",
   "metadata": {},
   "outputs": [],
   "source": [
    "def tfidf_encoding(df, feature_name, prefix, min_df=0.01, df_test= None, isTest = False):\n",
    "    train = df[feature_name].fillna(\"\")\n",
    "    tfidfvectorizer = TfidfVectorizer(analyzer='word',stop_words= 'english', min_df=min_df)\n",
    "    tfidf_wm = tfidfvectorizer.fit_transform(train)\n",
    "    tfidf_tokens = tfidfvectorizer.get_feature_names()\n",
    "    if(isTest):\n",
    "        test = df_test[feature_name].fillna(\"\")\n",
    "        tfidf_wm = tfidfvectorizer.transform(test)\n",
    "    df_tfidfvect = pd.DataFrame(data = tfidf_wm.toarray(), columns = tfidf_tokens)\n",
    "    df_tfidfvect.columns = [\"CF|TFIDF|\" + prefix + \"|\" + x for x in df_tfidfvect.columns]\n",
    "    return df_tfidfvect"
   ]
  },
  {
   "cell_type": "markdown",
   "id": "35a3c086",
   "metadata": {},
   "source": [
    "#### Column comment"
   ]
  },
  {
   "cell_type": "code",
   "execution_count": 13,
   "id": "f1c505f5",
   "metadata": {},
   "outputs": [],
   "source": [
    "tfidf_encoding(x_train, \"comment\", \"comment\", min_df=0.01).head()\n",
    "\n",
    "x_train_cf = x_train_cf.join(tfidf_encoding(x_train, \"comment\", \"comment\", min_df=0.01))\n",
    "x_test_cf = x_test_cf.join(tfidf_encoding(x_train, \"comment\", \"comment\", min_df=0.01, df_test=x_test, isTest=True))"
   ]
  },
  {
   "cell_type": "markdown",
   "id": "bf523bae",
   "metadata": {},
   "source": [
    "#### Column item_id"
   ]
  },
  {
   "cell_type": "code",
   "execution_count": 14,
   "id": "1e663501",
   "metadata": {},
   "outputs": [
    {
     "name": "stderr",
     "output_type": "stream",
     "text": [
      "<ipython-input-14-e7a044002212>:1: SettingWithCopyWarning: \n",
      "A value is trying to be set on a copy of a slice from a DataFrame.\n",
      "Try using .loc[row_indexer,col_indexer] = value instead\n",
      "\n",
      "See the caveats in the documentation: https://pandas.pydata.org/pandas-docs/stable/user_guide/indexing.html#returning-a-view-versus-a-copy\n",
      "  x_train[\"CF|spaced|item_id\"] = x_train[\"item_id\"].astype(str).apply(lambda x: (\" \").join(x.split(\"-\"))).copy()\n",
      "<ipython-input-14-e7a044002212>:2: SettingWithCopyWarning: \n",
      "A value is trying to be set on a copy of a slice from a DataFrame.\n",
      "Try using .loc[row_indexer,col_indexer] = value instead\n",
      "\n",
      "See the caveats in the documentation: https://pandas.pydata.org/pandas-docs/stable/user_guide/indexing.html#returning-a-view-versus-a-copy\n",
      "  x_test[\"CF|spaced|item_id\"] = x_test[\"item_id\"].astype(str).apply(lambda x: (\" \").join(x.split(\"-\"))).copy()\n"
     ]
    }
   ],
   "source": [
    "x_train[\"CF|spaced|item_id\"] = x_train[\"item_id\"].astype(str).apply(lambda x: (\" \").join(x.split(\"-\"))).copy()\n",
    "x_test[\"CF|spaced|item_id\"] = x_test[\"item_id\"].astype(str).apply(lambda x: (\" \").join(x.split(\"-\"))).copy()"
   ]
  },
  {
   "cell_type": "code",
   "execution_count": 15,
   "id": "051b8f7e",
   "metadata": {},
   "outputs": [],
   "source": [
    "x_train_cf = x_train_cf.join(tfidf_encoding(x_train, \"item_id\", \"item_id\", min_df=0.01))\n",
    "x_test_cf = x_test_cf.join(tfidf_encoding(x_train, \"item_id\", \"item_id\", min_df=0.01, df_test=x_test, isTest=True))"
   ]
  },
  {
   "cell_type": "markdown",
   "id": "858b1a7d",
   "metadata": {},
   "source": [
    "### Valores nan"
   ]
  },
  {
   "cell_type": "code",
   "execution_count": 16,
   "id": "ffe7c321",
   "metadata": {},
   "outputs": [],
   "source": [
    "x_train_cf = x_train_cf.fillna(x_train_cf.mean())\n",
    "x_test_cf = x_test_cf.fillna(x_train_cf.mean())"
   ]
  },
  {
   "cell_type": "markdown",
   "id": "d8226384",
   "metadata": {},
   "source": [
    "## Aplico algoritmo"
   ]
  },
  {
   "cell_type": "code",
   "execution_count": 17,
   "id": "47833017",
   "metadata": {},
   "outputs": [],
   "source": [
    "import xgboost as xgb\n",
    "from sklearn.metrics import accuracy_score"
   ]
  },
  {
   "cell_type": "code",
   "execution_count": 18,
   "id": "4e4bfd9b",
   "metadata": {},
   "outputs": [],
   "source": [
    "clf = xgb.XGBClassifier(random_state=RANDOM_STATE,\n",
    "                        objective ='binary:logistic',\n",
    "                        eval_metric = 'auc',\n",
    "                       use_label_encoder=False).fit(x_train_cf, y_train)"
   ]
  },
  {
   "cell_type": "code",
   "execution_count": 19,
   "id": "70ddccc7",
   "metadata": {},
   "outputs": [],
   "source": [
    "prediction = clf.predict(x_test_cf)"
   ]
  },
  {
   "cell_type": "code",
   "execution_count": 20,
   "id": "0e26e37c",
   "metadata": {},
   "outputs": [
    {
     "data": {
      "text/plain": [
       "0.9455144933993609"
      ]
     },
     "execution_count": 20,
     "metadata": {},
     "output_type": "execute_result"
    }
   ],
   "source": [
    "accuracy_score(prediction, y_test)"
   ]
  },
  {
   "cell_type": "code",
   "execution_count": 21,
   "id": "b17ddd66",
   "metadata": {},
   "outputs": [
    {
     "data": {
      "text/plain": [
       "1    78553\n",
       "dtype: int64"
      ]
     },
     "execution_count": 21,
     "metadata": {},
     "output_type": "execute_result"
    }
   ],
   "source": [
    "pd.Series(prediction).value_counts()"
   ]
  },
  {
   "cell_type": "code",
   "execution_count": 22,
   "id": "e3b7aa2f",
   "metadata": {},
   "outputs": [
    {
     "data": {
      "text/plain": [
       "1.0    74273\n",
       "0.0     4280\n",
       "Name: rating, dtype: int64"
      ]
     },
     "execution_count": 22,
     "metadata": {},
     "output_type": "execute_result"
    }
   ],
   "source": [
    "pd.Series(y_test).value_counts()"
   ]
  },
  {
   "cell_type": "markdown",
   "id": "899f5e27",
   "metadata": {},
   "source": [
    "## Features mas importantes"
   ]
  },
  {
   "cell_type": "code",
   "execution_count": 23,
   "id": "c161ad6a",
   "metadata": {},
   "outputs": [],
   "source": [
    "# Creo un dataframe con la importancia de cada feature\n",
    "\n",
    "df_features_coef = pd.DataFrame()\n",
    "df_features_coef[\"feature\"] = x_train_cf.columns\n",
    "df_features_coef[\"importance\"] = abs(clf.feature_importances_)\n",
    "df_features_coef.set_index([\"feature\"], inplace=True)"
   ]
  },
  {
   "cell_type": "code",
   "execution_count": 24,
   "id": "f580c9b0",
   "metadata": {
    "scrolled": true
   },
   "outputs": [],
   "source": [
    "# Busco los n features mas importantes\n",
    "\n",
    "n = 30\n",
    "top_n = df_features_coef[\"importance\"].nlargest(n)"
   ]
  },
  {
   "cell_type": "code",
   "execution_count": 25,
   "id": "76e42982",
   "metadata": {
    "scrolled": false
   },
   "outputs": [
    {
     "data": {
      "image/png": "[encoded data removed]",
      "text/plain": [
       "<Figure size 1440x360 with 1 Axes>"
      ]
     },
     "metadata": {
      "needs_background": "light"
     },
     "output_type": "display_data"
    }
   ],
   "source": [
    "# Grafico los n features mas importantes\n",
    "\n",
    "fig, axs = plt.subplots(figsize=(20,5))\n",
    "\n",
    "plt.stem(top_n)\n",
    "plt.xticks(range(n),top_n.index, rotation=90)\n",
    "plt.yticks(np.arange(0,0.02,0.001))\n",
    "plt.grid(True)\n",
    "plt.xlabel(\"Features\")\n",
    "plt.ylabel(\"Coeficiente absoluto\")\n",
    "\n",
    "fig.suptitle(\"Top 30 features mas importantes en el modelo XGBoost\", fontsize=18)\n",
    "\n",
    "plt.show()"
   ]
  }
 ],
 "metadata": {
  "kernelspec": {
   "display_name": "Python 3",
   "language": "python",
   "name": "python3"
  },
  "language_info": {
   "codemirror_mode": {
    "name": "ipython",
    "version": 3
   },
   "file_extension": ".py",
   "mimetype": "text/x-python",
   "name": "python",
   "nbconvert_exporter": "python",
   "pygments_lexer": "ipython3",
   "version": "3.8.8"
  }
 },
 "nbformat": 4,
 "nbformat_minor": 5
}
